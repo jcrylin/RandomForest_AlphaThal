{
  "nbformat": 4,
  "nbformat_minor": 0,
  "metadata": {
    "colab": {
      "name": "RanFor_RealData_GoogleCollab",
      "provenance": [],
      "collapsed_sections": [],
      "authorship_tag": "ABX9TyNzoRp5sI55n7G3tFaUuQV0",
      "include_colab_link": true
    },
    "kernelspec": {
      "name": "python3",
      "display_name": "Python 3"
    },
    "language_info": {
      "name": "python"
    }
  },
  "cells": [
    {
      "cell_type": "markdown",
      "metadata": {
        "id": "view-in-github",
        "colab_type": "text"
      },
      "source": [
        "<a href=\"https://colab.research.google.com/github/jcrylin/RandomForest_AlphaThal/blob/main/google_collab/RanFor_RealData_GoogleCollab.ipynb\" target=\"_parent\"><img src=\"https://colab.research.google.com/assets/colab-badge.svg\" alt=\"Open In Colab\"/></a>"
      ]
    },
    {
      "cell_type": "code",
      "execution_count": null,
      "metadata": {
        "id": "103Gt-KvRc37"
      },
      "outputs": [],
      "source": [
        "# import packages\n",
        "import pandas as pd\n",
        "import numpy as np\n",
        "import matplotlib.pyplot as plt\n",
        "from sklearn.ensemble import RandomForestClassifier\n",
        "from sklearn.model_selection import cross_val_score\n",
        "from sklearn.model_selection import StratifiedKFold\n",
        "from sklearn.model_selection import GridSearchCV\n",
        "from sklearn.metrics import accuracy_score\n",
        "from sklearn import tree\n",
        "import math"
      ]
    },
    {
      "cell_type": "code",
      "source": [
        "# reading in simulated text file\n",
        "from google.colab import drive\n",
        "drive.mount('/content/drive')"
      ],
      "metadata": {
        "id": "7AmIpGEPRoQF",
        "colab": {
          "base_uri": "https://localhost:8080/"
        },
        "outputId": "02c898f4-a1d8-4315-b15b-4bf5044ff9da"
      },
      "execution_count": null,
      "outputs": [
        {
          "output_type": "stream",
          "name": "stdout",
          "text": [
            "Mounted at /content/drive\n"
          ]
        }
      ]
    },
    {
      "cell_type": "code",
      "source": [
        "# reads in file with simulation data\n",
        "# returns x variables, y vairables, column names, and all of the possible genotypes produced\n",
        "def read_file(filename):\n",
        "    #count_slash = filename_path.count('/')\n",
        "    #filename = filename_path.split('/', count_slash)[-1]  # filename is after the last slash\n",
        "    \n",
        "    # reads in dataset\n",
        "    #df = pd.read_csv('/cluster/ifs/projects/AlphaThal/MachineLearning/Features/' + count_slash[-2] + '/' + filename, sep='\\t')\n",
        "    df = pd.read_csv(filename, sep='\\t')\n",
        "    \n",
        "    # randomly shuffles dataset\n",
        "    df = df.sample(frac=1)\n",
        "    \n",
        "    # drops 'Genotype' column from original dataframe, saves 'x' variables\n",
        "    df_x = df.drop(['Genotype'], 1)\n",
        "\n",
        "    # represents actual mutated genotype for each observation, saves 'y' variables\n",
        "    df_y = df['Genotype'] \n",
        "\n",
        "    # grabs coverage for each chromosomal section\n",
        "    df_column_names = df.columns\n",
        "    \n",
        "    # stores the 6 mutation genotypes in a list\n",
        "    mutated_genotype = df.Genotype.unique()\n",
        "\n",
        "    return df_x, df_y, df_column_names, mutated_genotype\n"
      ],
      "metadata": {
        "id": "bP5c6sh5Rpxd"
      },
      "execution_count": null,
      "outputs": []
    },
    {
      "cell_type": "code",
      "source": [
        "# shuffles data set\n",
        "def shuffle(df_x, df_y):\n",
        "    # takes 100 random samples out and stores it\n",
        "    df_variables_test = df_x[:100]\n",
        "    df_output_genotype_test = df_y[:100]\n",
        "\n",
        "    # keeps rest of variables not taken out to train model\n",
        "    df_variables_train = df_x[100:]\n",
        "    df_output_genotype_train = df_y[100:]\n",
        "    \n",
        "    return df_variables_train, df_variables_test, df_output_genotype_train, df_output_genotype_test\n",
        "    "
      ],
      "metadata": {
        "id": "8jKaJxSHRv4C"
      },
      "execution_count": null,
      "outputs": []
    },
    {
      "cell_type": "code",
      "source": [
        "# finds best parameters using GridSearchCV\n",
        "def grid(df_x, df_y):\n",
        "    limit = int(math.log2(len(df_x.index)))\n",
        "\n",
        "    n_trees = [100, 200, 300, 400, 500]\n",
        "    max_dep = [2, 3, 4, 5, 6, 7, 8, 9, 10]\n",
        "\n",
        "    if (limit in max_dep) == False:\n",
        "        for m in max_dep:\n",
        "            if limit < m:\n",
        "                max_dep.insert(max_dep.index(m), limit)\n",
        "                break\n",
        "\n",
        "    if max_dep[-1] < limit:\n",
        "        max_dep.append(limit)\n",
        "    \n",
        "    \n",
        "    parameters = {'n_estimators':n_trees, 'max_depth':max_dep}\n",
        "    \n",
        "    rf_grid = GridSearchCV(RandomForestClassifier(random_state=2), param_grid=parameters,\n",
        "                          return_train_score=True, cv=5, refit=True)\n",
        "    rf_grid.fit(df_x, df_y)\n",
        "    \n",
        "    \n",
        "    return rf_grid\n"
      ],
      "metadata": {
        "id": "gMoERSYMR3dF"
      },
      "execution_count": null,
      "outputs": []
    },
    {
      "cell_type": "code",
      "source": [
        "# calculates cross validation score of model with default hyper parameters\n",
        "# ALSO returns model created\n",
        "\n",
        "# tutorial referenced:\n",
        "### https://www.youtube.com/watch?v=gJo0uNL-5Qw\n",
        "\n",
        "def calculate_score(df, output, best_n_trees, best_max_depth):\n",
        "\n",
        "    model = RandomForestClassifier(n_estimators=best_n_trees, max_depth=best_max_depth,\n",
        "                                       random_state=2)\n",
        "    model.fit(df, output)\n",
        "\n",
        "    cross_score = cross_val_score(model, df, output, cv=5)\n",
        "    \n",
        "    return model, cross_score"
      ],
      "metadata": {
        "id": "pAw50S5JSLtI"
      },
      "execution_count": null,
      "outputs": []
    },
    {
      "cell_type": "code",
      "source": [
        "# reads in simulated data for model creation\n",
        "read_file_sim = read_file('/content/drive/My Drive/DataSet2.11760samples.cvg30.insert440.stdev100.hg19.txt')\n",
        "shuffle_sim = shuffle(read_file_sim[0], read_file_sim[1])\n",
        "grid_sim = grid(shuffle_sim[0], shuffle_sim[2])"
      ],
      "metadata": {
        "colab": {
          "base_uri": "https://localhost:8080/"
        },
        "id": "iNqdW_wyw1Ot",
        "outputId": "93dc5af1-4df8-4aa5-b42d-ca3cb4a505b3"
      },
      "execution_count": null,
      "outputs": [
        {
          "output_type": "stream",
          "name": "stderr",
          "text": [
            "/usr/local/lib/python3.7/dist-packages/ipykernel_launcher.py:13: FutureWarning: In a future version of pandas all arguments of DataFrame.drop except for the argument 'labels' will be keyword-only\n",
            "  del sys.path[0]\n"
          ]
        }
      ]
    },
    {
      "cell_type": "code",
      "source": [
        "best_params_sim = grid_sim.best_params_  # finds best parameters for model\n",
        "cal_score_output_sim = calculate_score(shuffle_sim[0].to_numpy(), shuffle_sim[2].to_numpy(), best_params_sim['n_estimators'], best_params_sim['max_depth'])\n",
        "print('scores with whole training data 2: ', cal_score_output_sim[1])\n",
        "\n"
      ],
      "metadata": {
        "colab": {
          "base_uri": "https://localhost:8080/"
        },
        "id": "ieaLyKDuw4k4",
        "outputId": "a7a54553-665a-43fb-ff69-a0feb7f4361a"
      },
      "execution_count": null,
      "outputs": [
        {
          "output_type": "stream",
          "name": "stdout",
          "text": [
            "scores with whole training data 2:  [0.9973822  0.9960733  0.9960733  0.99868938 0.99606815]\n"
          ]
        }
      ]
    },
    {
      "cell_type": "code",
      "source": [
        "# testing model with 100 test points\n",
        "test_preds = cal_score_output_sim[0].predict(shuffle_sim[1])\n",
        "test_actual = shuffle_sim[3]\n",
        "\n",
        "print(accuracy_score(test_actual, test_preds))"
      ],
      "metadata": {
        "id": "hy6XMmbl_xeB"
      },
      "execution_count": null,
      "outputs": []
    },
    {
      "cell_type": "code",
      "source": [
        "# reads in file with real data\n",
        "# NO shuffling\n",
        "\n",
        "def read_real_data(filename):\n",
        "\n",
        "    # reads in dataframe that has real data\n",
        "    df = pd.read_csv(filename, sep='\\t')\n",
        "    \n",
        "    # drops 'Genotype' column from original dataframe, saves 'x' variables\n",
        "    df_x = df.drop(['Genotype'], 1)\n",
        "\n",
        "    # represents actual mutated genotype for each observation, saves 'y' variables\n",
        "    df_y = df['Genotype'] \n",
        "\n",
        "    return df_x, df_y\n"
      ],
      "metadata": {
        "id": "18MjwG8yeLp_"
      },
      "execution_count": null,
      "outputs": []
    },
    {
      "cell_type": "code",
      "source": [
        "model_sim = cal_score_output_sim[0]  # model from simulated data\n",
        "model_grid =  grid_sim.best_estimator_  # model from grid\n",
        "\n",
        "read_file_real = read_real_data('/content/drive/My Drive/RealSamples.unnormalized.nogenotypes.hg19.test.norm.maskedgenos.final.txt')\n",
        "\n",
        "y_pred_sim = model_sim.predict(read_file_real[0].to_numpy())  # predicts output from real data using model from 'calculate_score' func\n",
        "y_pred_grid = model_grid.predict(read_file_real[0].to_numpy())  # finds genotype probability for predictions using model\n",
        "\n",
        "y_prob_sim = model_sim.predict_proba(read_file_real[0].to_numpy()) # predicts output from real data using .best_estimator_ from GridSearchCV\n",
        "y_prob_grid = model_grid.predict_proba(read_file_real[0].to_numpy()) # finds genotype probability for predictions using GridSearchCV"
      ],
      "metadata": {
        "colab": {
          "base_uri": "https://localhost:8080/"
        },
        "id": "ubEuHOXm1AYp",
        "outputId": "8192659f-09de-441e-8e4f-1e7fc73e068d"
      },
      "execution_count": null,
      "outputs": [
        {
          "output_type": "stream",
          "name": "stderr",
          "text": [
            "/usr/local/lib/python3.7/dist-packages/ipykernel_launcher.py:7: FutureWarning: In a future version of pandas all arguments of DataFrame.drop except for the argument 'labels' will be keyword-only\n",
            "  import sys\n",
            "/usr/local/lib/python3.7/dist-packages/sklearn/base.py:451: UserWarning: X does not have valid feature names, but RandomForestClassifier was fitted with feature names\n",
            "  \"X does not have valid feature names, but\"\n",
            "/usr/local/lib/python3.7/dist-packages/sklearn/base.py:451: UserWarning: X does not have valid feature names, but RandomForestClassifier was fitted with feature names\n",
            "  \"X does not have valid feature names, but\"\n"
          ]
        }
      ]
    },
    {
      "cell_type": "code",
      "source": [
        "# creates textfiles to put all predictions/probability predictions in \n",
        "\n",
        "with open('/content/drive/My Drive/genotype_output_grid.txt', 'w') as writer:\n",
        "  for index, genotype in enumerate(y_pred_grid):\n",
        "    writer.write(str(index+1) + ': ' + genotype + '\\n')\n",
        "\n",
        "with open('/content/drive/My Drive/genotype_output_grid_probs.txt', 'w') as writer:\n",
        "  for i in range(len(y_prob_grid)):\n",
        "    output = y_prob_grid[i]\n",
        "    writer.write(str(output) + '\\n')\n",
        "\n",
        "with open('/content/drive/My Drive/genotype_output.txt', 'w') as writer:\n",
        "  for index2, genotype2 in enumerate(y_pred_sim):\n",
        "    writer.write(str(index2+1) + ': ' + genotype2 + '\\n')\n",
        "\n",
        "with open('/content/drive/My Drive/genotype_output_probs.txt', 'w') as writer:\n",
        "  for i in range(len(y_prob_sim)):\n",
        "    output = y_prob_sim[i]\n",
        "    writer.write(str(output) + '\\n')\n"
      ],
      "metadata": {
        "id": "_EKFK4nD_0c1"
      },
      "execution_count": null,
      "outputs": []
    }
  ]
}